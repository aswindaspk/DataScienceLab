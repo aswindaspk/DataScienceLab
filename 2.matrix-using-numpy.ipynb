{
 "cells": [
  {
   "cell_type": "code",
   "execution_count": 3,
   "metadata": {},
   "outputs": [
    {
     "name": "stdout",
     "output_type": "stream",
     "text": [
      "Addition:\n",
      " [[ 6  8]\n",
      " [10 12]] \n",
      "\n",
      "\n",
      "Subtraction:\n",
      " [[-4 -4]\n",
      " [-4 -4]] \n",
      "\n",
      "\n",
      "Element-wise Multiplication:\n",
      " [[ 5 12]\n",
      " [21 32]] \n",
      "\n",
      "\n",
      "Matrix Multiplication:\n",
      " [[19 22]\n",
      " [43 50]] \n",
      "\n",
      "\n",
      "Transpose:\n",
      " [[1 3]\n",
      " [2 4]] \n",
      "\n",
      "\n"
     ]
    }
   ],
   "source": [
    "import numpy as np\n",
    "A=np.array([[1,2],[3,4]])\n",
    "B=np.array([[5,6],[7,8]])\n",
    "C=A+B\n",
    "print('Addition:\\n',C,'\\n\\n')\n",
    "D=A-B\n",
    "print('Subtraction:\\n',D,'\\n\\n')\n",
    "#multiplication element-wise\n",
    "E=A*B\n",
    "print('Element-wise Multiplication:\\n',E,'\\n\\n')\n",
    "#matrix multiplication\n",
    "F=np.dot(A,B)\n",
    "print('Matrix Multiplication:\\n',F,'\\n\\n')\n",
    "A_trans=A.T\n",
    "print('Transpose:\\n',A_trans,'\\n\\n')"
   ]
  },
  {
   "cell_type": "code",
   "execution_count": null,
   "metadata": {
    "collapsed": true
   },
   "outputs": [],
   "source": []
  }
 ],
 "metadata": {
  "kernelspec": {
   "display_name": "Python 3",
   "language": "python",
   "name": "python3"
  },
  "language_info": {
   "codemirror_mode": {
    "name": "ipython",
    "version": 3
   },
   "file_extension": ".py",
   "mimetype": "text/x-python",
   "name": "python",
   "nbconvert_exporter": "python",
   "pygments_lexer": "ipython3",
   "version": "3.6.3"
  }
 },
 "nbformat": 4,
 "nbformat_minor": 2
}
