{
 "cells": [
  {
   "cell_type": "code",
   "execution_count": 4,
   "metadata": {},
   "outputs": [
    {
     "name": "stdout",
     "output_type": "stream",
     "text": [
      "Enter first number: 4\n",
      "Enter second number: 76\n",
      "\n",
      "Choose the operation to perform:\n",
      "\n",
      "1.Addition\n",
      "2.Subtraction\n",
      "3.Multiplication\n",
      "4.Division\n",
      "5.Exit\n",
      "\n",
      "Enter you option:1\n",
      "\n",
      "\n",
      "4+76=80\n",
      "\n",
      "Choose the operation to perform:\n",
      "\n",
      "1.Addition\n",
      "2.Subtraction\n",
      "3.Multiplication\n",
      "4.Division\n",
      "5.Exit\n",
      "\n",
      "Enter you option:9\n",
      "\n",
      "Invalid Option\n",
      "\n",
      "Choose the operation to perform:\n",
      "\n",
      "1.Addition\n",
      "2.Subtraction\n",
      "3.Multiplication\n",
      "4.Division\n",
      "5.Exit\n",
      "\n",
      "Enter you option:5\n",
      "\n",
      "Exiting...\n"
     ]
    }
   ],
   "source": [
    "a=int(input('Enter first number: '))\n",
    "b=int(input('Enter second number: '))\n",
    "i=0\n",
    "while i>=0:\n",
    "    print('\\nChoose the operation to perform:\\n\\n1.Addition\\n2.Subtraction\\n3.Multiplication\\n4.Division\\n5.Exit')\n",
    "    i=int(input(\"\\nEnter you option:\"))\n",
    "    if i == 1:\n",
    "        print('\\n\\n%d+%d=%d' %(a,b,a+b))\n",
    "    elif i == 2:\n",
    "        print('\\n\\n%d-%d=%d' %(a,b,a-b))\n",
    "    elif i == 3:\n",
    "        if b == 0:\n",
    "            print('A number cannot be divided by 0')\n",
    "        else:5\n",
    "            print('\\n\\n%d*%d=%d' %(a,b,a*b))\n",
    "    elif i == 4:\n",
    "        print('\\n\\n%d/%d=%d' %(a,b,a/b))\n",
    "    elif i == 5:\n",
    "        print('\\nExiting...')\n",
    "        break\n",
    "    else:\n",
    "        print('\\nInvalid Option')"
   ]
  },
  {
   "cell_type": "code",
   "execution_count": null,
   "metadata": {
    "collapsed": true
   },
   "outputs": [],
   "source": []
  },
  {
   "cell_type": "code",
   "execution_count": null,
   "metadata": {
    "collapsed": true
   },
   "outputs": [],
   "source": []
  },
  {
   "cell_type": "code",
   "execution_count": null,
   "metadata": {
    "collapsed": true
   },
   "outputs": [],
   "source": []
  }
 ],
 "metadata": {
  "kernelspec": {
   "display_name": "Python 3",
   "language": "python",
   "name": "python3"
  },
  "language_info": {
   "codemirror_mode": {
    "name": "ipython",
    "version": 3
   },
   "file_extension": ".py",
   "mimetype": "text/x-python",
   "name": "python",
   "nbconvert_exporter": "python",
   "pygments_lexer": "ipython3",
   "version": "3.6.3"
  }
 },
 "nbformat": 4,
 "nbformat_minor": 2
}
