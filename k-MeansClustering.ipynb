{
 "cells": [
  {
   "cell_type": "code",
   "execution_count": 31,
   "id": "a5663ffb",
   "metadata": {},
   "outputs": [
    {
     "name": "stdout",
     "output_type": "stream",
     "text": [
      "     Feature 1  Feature 2\n",
      "0     2.698582  -0.672960\n",
      "1    -0.128113   4.355952\n",
      "2     2.509049   5.773146\n",
      "3    -1.518276   3.444886\n",
      "4    -0.072283   2.883769\n",
      "..         ...        ...\n",
      "495  10.303693  -4.378493\n",
      "496  -0.730000   6.254563\n",
      "497  -3.478708   2.257991\n",
      "498  -2.081214   2.447245\n",
      "499   3.359415   5.248267\n",
      "\n",
      "[500 rows x 2 columns]\n"
     ]
    },
    {
     "name": "stderr",
     "output_type": "stream",
     "text": [
      "/home/ksb/.local/lib/python3.10/site-packages/sklearn/cluster/_kmeans.py:1416: FutureWarning: The default value of `n_init` will change from 10 to 'auto' in 1.4. Set the value of `n_init` explicitly to suppress the warning\n",
      "  super()._check_params_vs_input(X, default_n_init=10)\n"
     ]
    },
    {
     "data": {
      "text/plain": [
       "<matplotlib.collections.PathCollection at 0x7faac9427b20>"
      ]
     },
     "execution_count": 31,
     "metadata": {},
     "output_type": "execute_result"
    },
    {
     "data": {
      "image/png": "[encoded data removed]",
      "text/plain": [
       "<Figure size 432x288 with 1 Axes>"
      ]
     },
     "metadata": {
      "needs_background": "light"
     },
     "output_type": "display_data"
    }
   ],
   "source": [
    "import pandas as pd\n",
    "a= pd.read_csv(\"cluster_data.csv\")\n",
    "print(a)\n",
    "x=a.iloc[:,:].values\n",
    "\n",
    "#no training set required\n",
    "from sklearn.cluster import KMeans\n",
    "kmeans=KMeans(init='k-means++',n_clusters=2,random_state=0).fit(x)\n",
    "p=kmeans.predict(x)\n",
    "\n",
    "\n",
    "#plotting graph\n",
    "import matplotlib.pyplot as plt\n",
    "colors=list(map(lambda x:'#3b4cc0' if x==1 else '#b204f8',p))\n",
    "plt.scatter(x[:,0],x[:,1],c=colors,marker='+',picker=True)"
   ]
  },
  {
   "cell_type": "code",
   "execution_count": null,
   "id": "3004cdb2",
   "metadata": {},
   "outputs": [],
   "source": []
  }
 ],
 "metadata": {
  "kernelspec": {
   "display_name": "Python 3 (ipykernel)",
   "language": "python",
   "name": "python3"
  },
  "language_info": {
   "codemirror_mode": {
    "name": "ipython",
    "version": 3
   },
   "file_extension": ".py",
   "mimetype": "text/x-python",
   "name": "python",
   "nbconvert_exporter": "python",
   "pygments_lexer": "ipython3",
   "version": "3.10.12"
  }
 },
 "nbformat": 4,
 "nbformat_minor": 5
}
