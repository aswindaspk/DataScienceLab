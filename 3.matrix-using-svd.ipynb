{
 "cells": [
  {
   "cell_type": "code",
   "execution_count": 2,
   "metadata": {},
   "outputs": [
    {
     "name": "stdout",
     "output_type": "stream",
     "text": [
      "Original Matrix\n",
      " [[1 2 3]\n",
      " [4 5 6]\n",
      " [7 8 9]] \n",
      "\n",
      "\n",
      "Reconstructed Matrix\n",
      " [[1. 2. 3.]\n",
      " [4. 5. 6.]\n",
      " [7. 8. 9.]] \n",
      "\n",
      "\n"
     ]
    }
   ],
   "source": [
    "import numpy as np\n",
    "#matrix creation\n",
    "X=np.array([[1,2,3],[4,5,6],[7,8,9]])\n",
    "#perform svd\n",
    "U,S,VT=np.linalg.svd(X)\n",
    "#choose no. of components to keep\n",
    "n_comp=2\n",
    "#reconstruct matrix with reduced dimensions\n",
    "X_reconstr=np.dot(U[:,:n_comp],np.dot(np.diag(S[:n_comp]),VT[:n_comp,:]))\n",
    "print('Original Matrix\\n',X,'\\n\\n')\n",
    "print('Reconstructed Matrix\\n',X_reconstr,'\\n\\n')"
   ]
  },
  {
   "cell_type": "code",
   "execution_count": null,
   "metadata": {
    "collapsed": true
   },
   "outputs": [],
   "source": []
  }
 ],
 "metadata": {
  "kernelspec": {
   "display_name": "Python 3",
   "language": "python",
   "name": "python3"
  },
  "language_info": {
   "codemirror_mode": {
    "name": "ipython",
    "version": 3
   },
   "file_extension": ".py",
   "mimetype": "text/x-python",
   "name": "python",
   "nbconvert_exporter": "python",
   "pygments_lexer": "ipython3",
   "version": "3.6.3"
  }
 },
 "nbformat": 4,
 "nbformat_minor": 2
}
